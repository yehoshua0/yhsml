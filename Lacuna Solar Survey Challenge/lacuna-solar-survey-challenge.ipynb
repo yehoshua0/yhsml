{
 "cells": [
  {
   "cell_type": "code",
   "execution_count": 14,
   "metadata": {
    "execution": {
     "iopub.execute_input": "2025-03-12T13:33:33.672930Z",
     "iopub.status.busy": "2025-03-12T13:33:33.672623Z",
     "iopub.status.idle": "2025-03-12T13:33:33.676817Z",
     "shell.execute_reply": "2025-03-12T13:33:33.675947Z",
     "shell.execute_reply.started": "2025-03-12T13:33:33.672899Z"
    },
    "trusted": true
   },
   "outputs": [],
   "source": [
    "import time\n",
    "start = time.time()"
   ]
  },
  {
   "cell_type": "code",
   "execution_count": 15,
   "metadata": {
    "execution": {
     "iopub.execute_input": "2025-03-12T13:33:33.677972Z",
     "iopub.status.busy": "2025-03-12T13:33:33.677682Z",
     "iopub.status.idle": "2025-03-12T13:33:33.853905Z",
     "shell.execute_reply": "2025-03-12T13:33:33.852953Z",
     "shell.execute_reply.started": "2025-03-12T13:33:33.677944Z"
    },
    "id": "anJiNQwP6jq5",
    "outputId": "7eed6c1a-fb25-47f9-afd6-f70a886dc94b",
    "trusted": true
   },
   "outputs": [
    {
     "name": "stderr",
     "output_type": "stream",
     "text": [
      "'nvidia-smi' n'est pas reconnu en tant que commande interne\n",
      "ou externe, un programme ex�cutable ou un fichier de commandes.\n"
     ]
    }
   ],
   "source": [
    "!nvidia-smi"
   ]
  },
  {
   "cell_type": "code",
   "execution_count": 16,
   "metadata": {},
   "outputs": [
    {
     "name": "stdout",
     "output_type": "stream",
     "text": [
      "Note: you may need to restart the kernel to use updated packages.\n"
     ]
    }
   ],
   "source": [
    "%pip install torch timm albumentations -q"
   ]
  },
  {
   "cell_type": "code",
   "execution_count": 17,
   "metadata": {
    "execution": {
     "iopub.execute_input": "2025-03-12T13:33:33.855261Z",
     "iopub.status.busy": "2025-03-12T13:33:33.854957Z",
     "iopub.status.idle": "2025-03-12T13:33:44.339482Z",
     "shell.execute_reply": "2025-03-12T13:33:44.338748Z",
     "shell.execute_reply.started": "2025-03-12T13:33:33.855230Z"
    },
    "id": "Y5T_1zXS9HRb",
    "outputId": "a8747c79-80d9-4263-fcd2-a410ab24388e",
    "trusted": true
   },
   "outputs": [],
   "source": [
    "import os\n",
    "import timm\n",
    "import torch\n",
    "import torch.nn as nn\n",
    "import torch.optim as optim\n",
    "import albumentations as A\n",
    "from albumentations.pytorch import ToTensorV2\n",
    "from torch.utils.data import Dataset, DataLoader\n",
    "import pandas as pd\n",
    "import cv2\n",
    "from sklearn.model_selection import StratifiedKFold\n",
    "import numpy as np\n",
    "from tqdm import tqdm"
   ]
  },
  {
   "cell_type": "code",
   "execution_count": 18,
   "metadata": {
    "execution": {
     "iopub.execute_input": "2025-03-12T13:33:44.340908Z",
     "iopub.status.busy": "2025-03-12T13:33:44.340357Z",
     "iopub.status.idle": "2025-03-12T13:33:44.383846Z",
     "shell.execute_reply": "2025-03-12T13:33:44.383221Z",
     "shell.execute_reply.started": "2025-03-12T13:33:44.340873Z"
    },
    "id": "8eaj51iFv95-",
    "trusted": true
   },
   "outputs": [],
   "source": [
    "# Read in the training dataset\n",
    "train = pd.read_csv(f\"./Train.csv\")"
   ]
  },
  {
   "cell_type": "code",
   "execution_count": 19,
   "metadata": {
    "execution": {
     "iopub.execute_input": "2025-03-12T13:33:44.384853Z",
     "iopub.status.busy": "2025-03-12T13:33:44.384594Z",
     "iopub.status.idle": "2025-03-12T13:33:44.407289Z",
     "shell.execute_reply": "2025-03-12T13:33:44.406576Z",
     "shell.execute_reply.started": "2025-03-12T13:33:44.384818Z"
    },
    "id": "saWCS23p2EEK",
    "outputId": "c160cee4-db1c-4950-c8ce-4b1a3fcaaf27",
    "trusted": true
   },
   "outputs": [
    {
     "data": {
      "application/vnd.microsoft.datawrangler.viewer.v0+json": {
       "columns": [
        {
         "name": "index",
         "rawType": "int64",
         "type": "integer"
        },
        {
         "name": "ID",
         "rawType": "object",
         "type": "string"
        },
        {
         "name": "img_origin",
         "rawType": "object",
         "type": "string"
        },
        {
         "name": "placement",
         "rawType": "object",
         "type": "string"
        },
        {
         "name": "boil_nbr",
         "rawType": "int64",
         "type": "integer"
        },
        {
         "name": "pan_nbr",
         "rawType": "int64",
         "type": "integer"
        },
        {
         "name": "polygon",
         "rawType": "object",
         "type": "string"
        }
       ],
       "conversionMethod": "pd.DataFrame",
       "ref": "5f2c9479-c2ef-4c02-bd86-9cb7ea5f8764",
       "rows": [
        [
         "0",
         "ID00rw8",
         "D",
         "roof",
         "0",
         "2",
         "[(2087, 2179.0), (2181, 2191.0), (2171, 2223.0), (2257, 2227.0), (2207, 2335.0), (2007, 2329.0)]"
        ],
        [
         "1",
         "ID014O6EC7",
         "D",
         "roof",
         "0",
         "1",
         "[(1327, 1574.0), (1595, 1308.0), (2169, 1744.0), (1903, 2008.0)]"
        ],
        [
         "2",
         "ID020cu0z",
         "D",
         "openspace",
         "0",
         "1",
         "[(2215, 1372.0), (2400, 1422.0), (2316, 1716.0), (2137, 1671.0)]"
        ],
        [
         "3",
         "ID024YTBkLvRpQahT",
         "D",
         "roof",
         "0",
         "1",
         "[(1574, 526.0), (1698, 366.0), (1810, 422.0), (1698, 578.0)]"
        ],
        [
         "4",
         "ID024YTBkLvRpQahT",
         "D",
         "roof",
         "0",
         "2",
         "[(1402, 782.0), (1814, 854.0), (1726, 1074.0), (1558, 986.0), (1530, 1030.0), (1306, 938.0)]"
        ]
       ],
       "shape": {
        "columns": 6,
        "rows": 5
       }
      },
      "text/html": [
       "<div>\n",
       "<style scoped>\n",
       "    .dataframe tbody tr th:only-of-type {\n",
       "        vertical-align: middle;\n",
       "    }\n",
       "\n",
       "    .dataframe tbody tr th {\n",
       "        vertical-align: top;\n",
       "    }\n",
       "\n",
       "    .dataframe thead th {\n",
       "        text-align: right;\n",
       "    }\n",
       "</style>\n",
       "<table border=\"1\" class=\"dataframe\">\n",
       "  <thead>\n",
       "    <tr style=\"text-align: right;\">\n",
       "      <th></th>\n",
       "      <th>ID</th>\n",
       "      <th>img_origin</th>\n",
       "      <th>placement</th>\n",
       "      <th>boil_nbr</th>\n",
       "      <th>pan_nbr</th>\n",
       "      <th>polygon</th>\n",
       "    </tr>\n",
       "  </thead>\n",
       "  <tbody>\n",
       "    <tr>\n",
       "      <th>0</th>\n",
       "      <td>ID00rw8</td>\n",
       "      <td>D</td>\n",
       "      <td>roof</td>\n",
       "      <td>0</td>\n",
       "      <td>2</td>\n",
       "      <td>[(2087, 2179.0), (2181, 2191.0), (2171, 2223.0...</td>\n",
       "    </tr>\n",
       "    <tr>\n",
       "      <th>1</th>\n",
       "      <td>ID014O6EC7</td>\n",
       "      <td>D</td>\n",
       "      <td>roof</td>\n",
       "      <td>0</td>\n",
       "      <td>1</td>\n",
       "      <td>[(1327, 1574.0), (1595, 1308.0), (2169, 1744.0...</td>\n",
       "    </tr>\n",
       "    <tr>\n",
       "      <th>2</th>\n",
       "      <td>ID020cu0z</td>\n",
       "      <td>D</td>\n",
       "      <td>openspace</td>\n",
       "      <td>0</td>\n",
       "      <td>1</td>\n",
       "      <td>[(2215, 1372.0), (2400, 1422.0), (2316, 1716.0...</td>\n",
       "    </tr>\n",
       "    <tr>\n",
       "      <th>3</th>\n",
       "      <td>ID024YTBkLvRpQahT</td>\n",
       "      <td>D</td>\n",
       "      <td>roof</td>\n",
       "      <td>0</td>\n",
       "      <td>1</td>\n",
       "      <td>[(1574, 526.0), (1698, 366.0), (1810, 422.0), ...</td>\n",
       "    </tr>\n",
       "    <tr>\n",
       "      <th>4</th>\n",
       "      <td>ID024YTBkLvRpQahT</td>\n",
       "      <td>D</td>\n",
       "      <td>roof</td>\n",
       "      <td>0</td>\n",
       "      <td>2</td>\n",
       "      <td>[(1402, 782.0), (1814, 854.0), (1726, 1074.0),...</td>\n",
       "    </tr>\n",
       "  </tbody>\n",
       "</table>\n",
       "</div>"
      ],
      "text/plain": [
       "                  ID img_origin  placement  boil_nbr  pan_nbr  \\\n",
       "0            ID00rw8          D       roof         0        2   \n",
       "1         ID014O6EC7          D       roof         0        1   \n",
       "2          ID020cu0z          D  openspace         0        1   \n",
       "3  ID024YTBkLvRpQahT          D       roof         0        1   \n",
       "4  ID024YTBkLvRpQahT          D       roof         0        2   \n",
       "\n",
       "                                             polygon  \n",
       "0  [(2087, 2179.0), (2181, 2191.0), (2171, 2223.0...  \n",
       "1  [(1327, 1574.0), (1595, 1308.0), (2169, 1744.0...  \n",
       "2  [(2215, 1372.0), (2400, 1422.0), (2316, 1716.0...  \n",
       "3  [(1574, 526.0), (1698, 366.0), (1810, 422.0), ...  \n",
       "4  [(1402, 782.0), (1814, 854.0), (1726, 1074.0),...  "
      ]
     },
     "execution_count": 19,
     "metadata": {},
     "output_type": "execute_result"
    }
   ],
   "source": [
    "train.head()"
   ]
  },
  {
   "cell_type": "code",
   "execution_count": 20,
   "metadata": {
    "execution": {
     "iopub.execute_input": "2025-03-12T13:33:44.410200Z",
     "iopub.status.busy": "2025-03-12T13:33:44.409998Z",
     "iopub.status.idle": "2025-03-12T13:33:44.452319Z",
     "shell.execute_reply": "2025-03-12T13:33:44.451682Z",
     "shell.execute_reply.started": "2025-03-12T13:33:44.410183Z"
    },
    "id": "5DF3hPzM2wIG",
    "trusted": true
   },
   "outputs": [],
   "source": [
    "# Create a placement mapper\n",
    "placement_mapper = train[[\"ID\", \"placement\"]].drop_duplicates().set_index(\"ID\").to_dict()\n",
    "# Create a \"img_origin\" mapper\n",
    "img_origin_mapper = train[[\"ID\", \"img_origin\"]].drop_duplicates().set_index(\"ID\").to_dict()\n",
    "\n",
    "# Group by \"ID\" and sum up boil_nb, pan_nbr\n",
    "train_df = train.groupby(\"ID\").sum().reset_index()[[\"ID\", \"boil_nbr\", \"pan_nbr\"]]\n",
    "\n",
    "# Map img_origin and placement\n",
    "train_df[\"img_origin\"] = train_df[\"ID\"].map(img_origin_mapper[\"img_origin\"])\n",
    "train_df[\"placement\"] = train_df[\"ID\"].map(placement_mapper[\"placement\"])\n",
    "\n",
    "# Create path column\n",
    "train_df[\"path\"] = \"/kaggle/input/lacuna-solar-survey-challenge/images/\" + train_df[\"ID\"] + \".jpg\""
   ]
  },
  {
   "cell_type": "code",
   "execution_count": 21,
   "metadata": {
    "execution": {
     "iopub.execute_input": "2025-03-12T13:33:44.456189Z",
     "iopub.status.busy": "2025-03-12T13:33:44.455968Z",
     "iopub.status.idle": "2025-03-12T13:33:44.464511Z",
     "shell.execute_reply": "2025-03-12T13:33:44.463544Z",
     "shell.execute_reply.started": "2025-03-12T13:33:44.456171Z"
    },
    "id": "ULcbkzcQ-T86",
    "outputId": "59ca52bc-f36e-41ec-9590-a913ea89fd88",
    "trusted": true
   },
   "outputs": [
    {
     "data": {
      "application/vnd.microsoft.datawrangler.viewer.v0+json": {
       "columns": [
        {
         "name": "index",
         "rawType": "int64",
         "type": "integer"
        },
        {
         "name": "ID",
         "rawType": "object",
         "type": "string"
        },
        {
         "name": "boil_nbr",
         "rawType": "int64",
         "type": "integer"
        },
        {
         "name": "pan_nbr",
         "rawType": "int64",
         "type": "integer"
        },
        {
         "name": "img_origin",
         "rawType": "object",
         "type": "string"
        },
        {
         "name": "placement",
         "rawType": "object",
         "type": "string"
        },
        {
         "name": "path",
         "rawType": "object",
         "type": "string"
        }
       ],
       "conversionMethod": "pd.DataFrame",
       "ref": "100e8e1e-bb7c-4161-a8c6-0c77d6fab957",
       "rows": [
        [
         "0",
         "ID00rw8",
         "0",
         "2",
         "D",
         "roof",
         "/kaggle/input/lacuna-solar-survey-challenge/images/ID00rw8.jpg"
        ],
        [
         "1",
         "ID014O6EC7",
         "0",
         "1",
         "D",
         "roof",
         "/kaggle/input/lacuna-solar-survey-challenge/images/ID014O6EC7.jpg"
        ],
        [
         "2",
         "ID020cu0z",
         "0",
         "1",
         "D",
         "openspace",
         "/kaggle/input/lacuna-solar-survey-challenge/images/ID020cu0z.jpg"
        ],
        [
         "3",
         "ID024YTBkLvRpQahT",
         "0",
         "5",
         "D",
         "roof",
         "/kaggle/input/lacuna-solar-survey-challenge/images/ID024YTBkLvRpQahT.jpg"
        ],
        [
         "4",
         "ID02vByTw8Htl",
         "0",
         "1",
         "D",
         "roof",
         "/kaggle/input/lacuna-solar-survey-challenge/images/ID02vByTw8Htl.jpg"
        ]
       ],
       "shape": {
        "columns": 6,
        "rows": 5
       }
      },
      "text/html": [
       "<div>\n",
       "<style scoped>\n",
       "    .dataframe tbody tr th:only-of-type {\n",
       "        vertical-align: middle;\n",
       "    }\n",
       "\n",
       "    .dataframe tbody tr th {\n",
       "        vertical-align: top;\n",
       "    }\n",
       "\n",
       "    .dataframe thead th {\n",
       "        text-align: right;\n",
       "    }\n",
       "</style>\n",
       "<table border=\"1\" class=\"dataframe\">\n",
       "  <thead>\n",
       "    <tr style=\"text-align: right;\">\n",
       "      <th></th>\n",
       "      <th>ID</th>\n",
       "      <th>boil_nbr</th>\n",
       "      <th>pan_nbr</th>\n",
       "      <th>img_origin</th>\n",
       "      <th>placement</th>\n",
       "      <th>path</th>\n",
       "    </tr>\n",
       "  </thead>\n",
       "  <tbody>\n",
       "    <tr>\n",
       "      <th>0</th>\n",
       "      <td>ID00rw8</td>\n",
       "      <td>0</td>\n",
       "      <td>2</td>\n",
       "      <td>D</td>\n",
       "      <td>roof</td>\n",
       "      <td>/kaggle/input/lacuna-solar-survey-challenge/im...</td>\n",
       "    </tr>\n",
       "    <tr>\n",
       "      <th>1</th>\n",
       "      <td>ID014O6EC7</td>\n",
       "      <td>0</td>\n",
       "      <td>1</td>\n",
       "      <td>D</td>\n",
       "      <td>roof</td>\n",
       "      <td>/kaggle/input/lacuna-solar-survey-challenge/im...</td>\n",
       "    </tr>\n",
       "    <tr>\n",
       "      <th>2</th>\n",
       "      <td>ID020cu0z</td>\n",
       "      <td>0</td>\n",
       "      <td>1</td>\n",
       "      <td>D</td>\n",
       "      <td>openspace</td>\n",
       "      <td>/kaggle/input/lacuna-solar-survey-challenge/im...</td>\n",
       "    </tr>\n",
       "    <tr>\n",
       "      <th>3</th>\n",
       "      <td>ID024YTBkLvRpQahT</td>\n",
       "      <td>0</td>\n",
       "      <td>5</td>\n",
       "      <td>D</td>\n",
       "      <td>roof</td>\n",
       "      <td>/kaggle/input/lacuna-solar-survey-challenge/im...</td>\n",
       "    </tr>\n",
       "    <tr>\n",
       "      <th>4</th>\n",
       "      <td>ID02vByTw8Htl</td>\n",
       "      <td>0</td>\n",
       "      <td>1</td>\n",
       "      <td>D</td>\n",
       "      <td>roof</td>\n",
       "      <td>/kaggle/input/lacuna-solar-survey-challenge/im...</td>\n",
       "    </tr>\n",
       "  </tbody>\n",
       "</table>\n",
       "</div>"
      ],
      "text/plain": [
       "                  ID  boil_nbr  pan_nbr img_origin  placement  \\\n",
       "0            ID00rw8         0        2          D       roof   \n",
       "1         ID014O6EC7         0        1          D       roof   \n",
       "2          ID020cu0z         0        1          D  openspace   \n",
       "3  ID024YTBkLvRpQahT         0        5          D       roof   \n",
       "4      ID02vByTw8Htl         0        1          D       roof   \n",
       "\n",
       "                                                path  \n",
       "0  /kaggle/input/lacuna-solar-survey-challenge/im...  \n",
       "1  /kaggle/input/lacuna-solar-survey-challenge/im...  \n",
       "2  /kaggle/input/lacuna-solar-survey-challenge/im...  \n",
       "3  /kaggle/input/lacuna-solar-survey-challenge/im...  \n",
       "4  /kaggle/input/lacuna-solar-survey-challenge/im...  "
      ]
     },
     "execution_count": 21,
     "metadata": {},
     "output_type": "execute_result"
    }
   ],
   "source": [
    "train_df.head()"
   ]
  },
  {
   "cell_type": "code",
   "execution_count": 22,
   "metadata": {
    "execution": {
     "iopub.execute_input": "2025-03-12T13:33:44.465790Z",
     "iopub.status.busy": "2025-03-12T13:33:44.465495Z",
     "iopub.status.idle": "2025-03-12T13:33:44.488675Z",
     "shell.execute_reply": "2025-03-12T13:33:44.487943Z",
     "shell.execute_reply.started": "2025-03-12T13:33:44.465762Z"
    },
    "id": "HKG3kLmc3U0j",
    "outputId": "dec2c167-1473-4413-c7c6-68fc5b9ef7a8",
    "trusted": true
   },
   "outputs": [
    {
     "name": "stderr",
     "output_type": "stream",
     "text": [
      "c:\\Users\\ATD\\anaconda3\\Lib\\site-packages\\sklearn\\model_selection\\_split.py:776: UserWarning: The least populated class in y has only 1 members, which is less than n_splits=5.\n",
      "  warnings.warn(\n"
     ]
    }
   ],
   "source": [
    "# Stratified KFold based on multi-label targets\n",
    "train_df[\"stratify_label\"] = train_df[[\"boil_nbr\", \"pan_nbr\"]].sum(axis=1)\n",
    "skf = StratifiedKFold(n_splits=5, shuffle=True, random_state=42)\n",
    "train_df[\"fold\"] = -1\n",
    "for fold, (_, valid_idx) in enumerate(skf.split(train_df, train_df[\"stratify_label\"])):\n",
    "    train_df.loc[valid_idx, \"fold\"] = fold"
   ]
  },
  {
   "cell_type": "code",
   "execution_count": 23,
   "metadata": {
    "execution": {
     "iopub.execute_input": "2025-03-12T13:33:44.489926Z",
     "iopub.status.busy": "2025-03-12T13:33:44.489636Z",
     "iopub.status.idle": "2025-03-12T13:33:44.496751Z",
     "shell.execute_reply": "2025-03-12T13:33:44.495997Z",
     "shell.execute_reply.started": "2025-03-12T13:33:44.489893Z"
    },
    "id": "Wn5YdAa6DQru",
    "trusted": true
   },
   "outputs": [],
   "source": [
    "# Define Transformations\n",
    "train_transforms = A.Compose([\n",
    "    A.Resize(384, 384), \n",
    "    A.HorizontalFlip(p=0.5),\n",
    "    A.Normalize(mean=(0.485, 0.456, 0.406), std=(0.229, 0.224, 0.225)),\n",
    "    ToTensorV2()\n",
    "])\n",
    "\n",
    "\n",
    "test_transforms = A.Compose([\n",
    "    A.Resize(384, 384),\n",
    "    A.Normalize(mean=(0.485, 0.456, 0.406), std=(0.229, 0.224, 0.225)),\n",
    "    ToTensorV2()\n",
    "])"
   ]
  },
  {
   "cell_type": "code",
   "execution_count": 24,
   "metadata": {
    "execution": {
     "iopub.execute_input": "2025-03-12T13:33:44.497849Z",
     "iopub.status.busy": "2025-03-12T13:33:44.497597Z",
     "iopub.status.idle": "2025-03-12T13:33:44.515147Z",
     "shell.execute_reply": "2025-03-12T13:33:44.514496Z",
     "shell.execute_reply.started": "2025-03-12T13:33:44.497821Z"
    },
    "id": "HihBcjfh9RH7",
    "trusted": true
   },
   "outputs": [],
   "source": [
    "# Custom Dataset\n",
    "class SolarPanelDataset(Dataset):\n",
    "    def __init__(self, dataframe, transform=None, to_train=True):\n",
    "        self.dataframe = dataframe\n",
    "        self.transform = transform\n",
    "        self.to_train = to_train\n",
    "\n",
    "    def __len__(self):\n",
    "        return len(self.dataframe)\n",
    "\n",
    "    def __getitem__(self, idx):\n",
    "        row = self.dataframe.iloc[idx]\n",
    "        image = cv2.imread(row[\"path\"])\n",
    "        image = cv2.cvtColor(image, cv2.COLOR_BGR2RGB)\n",
    "\n",
    "        if self.transform:\n",
    "            image = self.transform(image=image)[\"image\"]\n",
    "\n",
    "        if self.to_train:\n",
    "          target = torch.tensor([row[\"boil_nbr\"], row[\"pan_nbr\"]], dtype=torch.float32)\n",
    "          return image, target\n",
    "        else:\n",
    "          return image"
   ]
  },
  {
   "cell_type": "code",
   "execution_count": 25,
   "metadata": {
    "execution": {
     "iopub.execute_input": "2025-03-12T13:33:44.516205Z",
     "iopub.status.busy": "2025-03-12T13:33:44.515968Z",
     "iopub.status.idle": "2025-03-12T13:33:44.538484Z",
     "shell.execute_reply": "2025-03-12T13:33:44.537574Z",
     "shell.execute_reply.started": "2025-03-12T13:33:44.516180Z"
    },
    "id": "5zg6m_dc9Va7",
    "trusted": true
   },
   "outputs": [],
   "source": [
    "# Prepare Dataloaders\n",
    "fold = 0\n",
    "train_data = train_df[train_df[\"fold\"] != fold].reset_index(drop=True)\n",
    "valid_data = train_df[train_df[\"fold\"] == fold].reset_index(drop=True)\n",
    "\n",
    "dataset_train = SolarPanelDataset(train_data, transform=train_transforms)\n",
    "dataset_valid = SolarPanelDataset(valid_data, transform=test_transforms)\n",
    "\n",
    "train_loader = DataLoader(dataset_train, batch_size=8, shuffle=True, num_workers=os.cpu_count())\n",
    "valid_loader = DataLoader(dataset_valid, batch_size=8, shuffle=False)"
   ]
  },
  {
   "cell_type": "code",
   "execution_count": 26,
   "metadata": {
    "execution": {
     "iopub.execute_input": "2025-03-12T13:33:44.539812Z",
     "iopub.status.busy": "2025-03-12T13:33:44.539523Z",
     "iopub.status.idle": "2025-03-12T13:33:44.546730Z",
     "shell.execute_reply": "2025-03-12T13:33:44.545945Z",
     "shell.execute_reply.started": "2025-03-12T13:33:44.539776Z"
    },
    "trusted": true
   },
   "outputs": [],
   "source": [
    "import torch.nn as nn\n",
    "import timm\n",
    "\n",
    "# Model Definition\n",
    "class EfficientNetRegressor(nn.Module):\n",
    "    def __init__(self):\n",
    "        super(EfficientNetRegressor, self).__init__()\n",
    "        # Upgrade to EfficientNet-B3\n",
    "        self.model = timm.create_model(\"tf_efficientnet_b5\", pretrained=True)\n",
    "        \n",
    "        # Get the number of features from the classifier layer\n",
    "        in_features = self.model.classifier.in_features\n",
    "        \n",
    "        # Replace the classifier with a custom regression head\n",
    "        self.model.classifier = nn.Sequential(\n",
    "            nn.Linear(in_features, 512),  # Reduce to a hidden layer of 512 units\n",
    "            nn.ReLU(),                   # Non-linearity\n",
    "            nn.Dropout(0.3),             # Dropout for regularization (30% dropout rate)\n",
    "            nn.Linear(512, 2)            # Output layer for 2 regression targets (boil_nbr, pan_nbr)\n",
    "        )\n",
    "\n",
    "    def forward(self, x):\n",
    "        # Forward pass through the model\n",
    "        return self.model(x)"
   ]
  },
  {
   "cell_type": "code",
   "execution_count": 27,
   "metadata": {
    "execution": {
     "iopub.execute_input": "2025-03-12T13:33:44.547715Z",
     "iopub.status.busy": "2025-03-12T13:33:44.547457Z",
     "iopub.status.idle": "2025-03-12T13:33:45.971450Z",
     "shell.execute_reply": "2025-03-12T13:33:45.970747Z",
     "shell.execute_reply.started": "2025-03-12T13:33:44.547692Z"
    },
    "id": "DqOjmljZ_wqQ",
    "outputId": "e79d1147-5c89-4b26-be64-c4e87272d0eb",
    "trusted": true
   },
   "outputs": [
    {
     "data": {
      "application/vnd.jupyter.widget-view+json": {
       "model_id": "9e037133a59b4191801c99c1d007a8c3",
       "version_major": 2,
       "version_minor": 0
      },
      "text/plain": [
       "model.safetensors:   0%|          | 0.00/122M [00:00<?, ?B/s]"
      ]
     },
     "metadata": {},
     "output_type": "display_data"
    },
    {
     "name": "stderr",
     "output_type": "stream",
     "text": [
      "c:\\Users\\ATD\\anaconda3\\Lib\\site-packages\\huggingface_hub\\file_download.py:142: UserWarning: `huggingface_hub` cache-system uses symlinks by default to efficiently store duplicated files but your machine does not support them in C:\\Users\\ATD\\.cache\\huggingface\\hub\\models--timm--tf_efficientnet_b5.ns_jft_in1k. Caching files will still work but in a degraded version that might require more space on your disk. This warning can be disabled by setting the `HF_HUB_DISABLE_SYMLINKS_WARNING` environment variable. For more details, see https://huggingface.co/docs/huggingface_hub/how-to-cache#limitations.\n",
      "To support symlinks on Windows, you either need to activate Developer Mode or to run Python as an administrator. In order to activate developer mode, see this article: https://docs.microsoft.com/en-us/windows/apps/get-started/enable-your-device-for-development\n",
      "  warnings.warn(message)\n"
     ]
    }
   ],
   "source": [
    "# Training Setup\n",
    "model = EfficientNetRegressor()\n",
    "criterion = nn.L1Loss()  # MAE Loss\n",
    "optimizer = optim.Adam(model.parameters(), lr=1e-4)\n",
    "\n",
    "# Model Saving Path\n",
    "best_model_path = \"/kaggle/working/best_model.pth\""
   ]
  },
  {
   "cell_type": "code",
   "execution_count": 28,
   "metadata": {
    "execution": {
     "iopub.execute_input": "2025-03-12T13:33:45.972520Z",
     "iopub.status.busy": "2025-03-12T13:33:45.972311Z"
    },
    "id": "D5gV2mYT_zFy",
    "outputId": "0fb50c5a-93c1-46ee-b1fe-ed04556c821d",
    "trusted": true
   },
   "outputs": [
    {
     "name": "stdout",
     "output_type": "stream",
     "text": [
      "Using device: cuda\n"
     ]
    },
    {
     "ename": "AssertionError",
     "evalue": "Torch not compiled with CUDA enabled",
     "output_type": "error",
     "traceback": [
      "\u001b[1;31m---------------------------------------------------------------------------\u001b[0m",
      "\u001b[1;31mAssertionError\u001b[0m                            Traceback (most recent call last)",
      "File \u001b[1;32m<timed exec>:15\u001b[0m\n",
      "File \u001b[1;32mc:\\Users\\ATD\\anaconda3\\Lib\\site-packages\\torch\\nn\\modules\\module.py:1343\u001b[0m, in \u001b[0;36mModule.to\u001b[1;34m(self, *args, **kwargs)\u001b[0m\n\u001b[0;32m   1340\u001b[0m         \u001b[38;5;28;01melse\u001b[39;00m:\n\u001b[0;32m   1341\u001b[0m             \u001b[38;5;28;01mraise\u001b[39;00m\n\u001b[1;32m-> 1343\u001b[0m \u001b[38;5;28;01mreturn\u001b[39;00m \u001b[38;5;28mself\u001b[39m\u001b[38;5;241m.\u001b[39m_apply(convert)\n",
      "File \u001b[1;32mc:\\Users\\ATD\\anaconda3\\Lib\\site-packages\\torch\\nn\\modules\\module.py:903\u001b[0m, in \u001b[0;36mModule._apply\u001b[1;34m(self, fn, recurse)\u001b[0m\n\u001b[0;32m    901\u001b[0m \u001b[38;5;28;01mif\u001b[39;00m recurse:\n\u001b[0;32m    902\u001b[0m     \u001b[38;5;28;01mfor\u001b[39;00m module \u001b[38;5;129;01min\u001b[39;00m \u001b[38;5;28mself\u001b[39m\u001b[38;5;241m.\u001b[39mchildren():\n\u001b[1;32m--> 903\u001b[0m         module\u001b[38;5;241m.\u001b[39m_apply(fn)\n\u001b[0;32m    905\u001b[0m \u001b[38;5;28;01mdef\u001b[39;00m \u001b[38;5;21mcompute_should_use_set_data\u001b[39m(tensor, tensor_applied):\n\u001b[0;32m    906\u001b[0m     \u001b[38;5;28;01mif\u001b[39;00m torch\u001b[38;5;241m.\u001b[39m_has_compatible_shallow_copy_type(tensor, tensor_applied):\n\u001b[0;32m    907\u001b[0m         \u001b[38;5;66;03m# If the new tensor has compatible tensor type as the existing tensor,\u001b[39;00m\n\u001b[0;32m    908\u001b[0m         \u001b[38;5;66;03m# the current behavior is to change the tensor in-place using `.data =`,\u001b[39;00m\n\u001b[1;32m   (...)\u001b[0m\n\u001b[0;32m    913\u001b[0m         \u001b[38;5;66;03m# global flag to let the user control whether they want the future\u001b[39;00m\n\u001b[0;32m    914\u001b[0m         \u001b[38;5;66;03m# behavior of overwriting the existing tensor or not.\u001b[39;00m\n",
      "File \u001b[1;32mc:\\Users\\ATD\\anaconda3\\Lib\\site-packages\\torch\\nn\\modules\\module.py:903\u001b[0m, in \u001b[0;36mModule._apply\u001b[1;34m(self, fn, recurse)\u001b[0m\n\u001b[0;32m    901\u001b[0m \u001b[38;5;28;01mif\u001b[39;00m recurse:\n\u001b[0;32m    902\u001b[0m     \u001b[38;5;28;01mfor\u001b[39;00m module \u001b[38;5;129;01min\u001b[39;00m \u001b[38;5;28mself\u001b[39m\u001b[38;5;241m.\u001b[39mchildren():\n\u001b[1;32m--> 903\u001b[0m         module\u001b[38;5;241m.\u001b[39m_apply(fn)\n\u001b[0;32m    905\u001b[0m \u001b[38;5;28;01mdef\u001b[39;00m \u001b[38;5;21mcompute_should_use_set_data\u001b[39m(tensor, tensor_applied):\n\u001b[0;32m    906\u001b[0m     \u001b[38;5;28;01mif\u001b[39;00m torch\u001b[38;5;241m.\u001b[39m_has_compatible_shallow_copy_type(tensor, tensor_applied):\n\u001b[0;32m    907\u001b[0m         \u001b[38;5;66;03m# If the new tensor has compatible tensor type as the existing tensor,\u001b[39;00m\n\u001b[0;32m    908\u001b[0m         \u001b[38;5;66;03m# the current behavior is to change the tensor in-place using `.data =`,\u001b[39;00m\n\u001b[1;32m   (...)\u001b[0m\n\u001b[0;32m    913\u001b[0m         \u001b[38;5;66;03m# global flag to let the user control whether they want the future\u001b[39;00m\n\u001b[0;32m    914\u001b[0m         \u001b[38;5;66;03m# behavior of overwriting the existing tensor or not.\u001b[39;00m\n",
      "File \u001b[1;32mc:\\Users\\ATD\\anaconda3\\Lib\\site-packages\\torch\\nn\\modules\\module.py:930\u001b[0m, in \u001b[0;36mModule._apply\u001b[1;34m(self, fn, recurse)\u001b[0m\n\u001b[0;32m    926\u001b[0m \u001b[38;5;66;03m# Tensors stored in modules are graph leaves, and we don't want to\u001b[39;00m\n\u001b[0;32m    927\u001b[0m \u001b[38;5;66;03m# track autograd history of `param_applied`, so we have to use\u001b[39;00m\n\u001b[0;32m    928\u001b[0m \u001b[38;5;66;03m# `with torch.no_grad():`\u001b[39;00m\n\u001b[0;32m    929\u001b[0m \u001b[38;5;28;01mwith\u001b[39;00m torch\u001b[38;5;241m.\u001b[39mno_grad():\n\u001b[1;32m--> 930\u001b[0m     param_applied \u001b[38;5;241m=\u001b[39m fn(param)\n\u001b[0;32m    931\u001b[0m p_should_use_set_data \u001b[38;5;241m=\u001b[39m compute_should_use_set_data(param, param_applied)\n\u001b[0;32m    933\u001b[0m \u001b[38;5;66;03m# subclasses may have multiple child tensors so we need to use swap_tensors\u001b[39;00m\n",
      "File \u001b[1;32mc:\\Users\\ATD\\anaconda3\\Lib\\site-packages\\torch\\nn\\modules\\module.py:1329\u001b[0m, in \u001b[0;36mModule.to.<locals>.convert\u001b[1;34m(t)\u001b[0m\n\u001b[0;32m   1322\u001b[0m     \u001b[38;5;28;01mif\u001b[39;00m convert_to_format \u001b[38;5;129;01mis\u001b[39;00m \u001b[38;5;129;01mnot\u001b[39;00m \u001b[38;5;28;01mNone\u001b[39;00m \u001b[38;5;129;01mand\u001b[39;00m t\u001b[38;5;241m.\u001b[39mdim() \u001b[38;5;129;01min\u001b[39;00m (\u001b[38;5;241m4\u001b[39m, \u001b[38;5;241m5\u001b[39m):\n\u001b[0;32m   1323\u001b[0m         \u001b[38;5;28;01mreturn\u001b[39;00m t\u001b[38;5;241m.\u001b[39mto(\n\u001b[0;32m   1324\u001b[0m             device,\n\u001b[0;32m   1325\u001b[0m             dtype \u001b[38;5;28;01mif\u001b[39;00m t\u001b[38;5;241m.\u001b[39mis_floating_point() \u001b[38;5;129;01mor\u001b[39;00m t\u001b[38;5;241m.\u001b[39mis_complex() \u001b[38;5;28;01melse\u001b[39;00m \u001b[38;5;28;01mNone\u001b[39;00m,\n\u001b[0;32m   1326\u001b[0m             non_blocking,\n\u001b[0;32m   1327\u001b[0m             memory_format\u001b[38;5;241m=\u001b[39mconvert_to_format,\n\u001b[0;32m   1328\u001b[0m         )\n\u001b[1;32m-> 1329\u001b[0m     \u001b[38;5;28;01mreturn\u001b[39;00m t\u001b[38;5;241m.\u001b[39mto(\n\u001b[0;32m   1330\u001b[0m         device,\n\u001b[0;32m   1331\u001b[0m         dtype \u001b[38;5;28;01mif\u001b[39;00m t\u001b[38;5;241m.\u001b[39mis_floating_point() \u001b[38;5;129;01mor\u001b[39;00m t\u001b[38;5;241m.\u001b[39mis_complex() \u001b[38;5;28;01melse\u001b[39;00m \u001b[38;5;28;01mNone\u001b[39;00m,\n\u001b[0;32m   1332\u001b[0m         non_blocking,\n\u001b[0;32m   1333\u001b[0m     )\n\u001b[0;32m   1334\u001b[0m \u001b[38;5;28;01mexcept\u001b[39;00m \u001b[38;5;167;01mNotImplementedError\u001b[39;00m \u001b[38;5;28;01mas\u001b[39;00m e:\n\u001b[0;32m   1335\u001b[0m     \u001b[38;5;28;01mif\u001b[39;00m \u001b[38;5;28mstr\u001b[39m(e) \u001b[38;5;241m==\u001b[39m \u001b[38;5;124m\"\u001b[39m\u001b[38;5;124mCannot copy out of meta tensor; no data!\u001b[39m\u001b[38;5;124m\"\u001b[39m:\n",
      "File \u001b[1;32mc:\\Users\\ATD\\anaconda3\\Lib\\site-packages\\torch\\cuda\\__init__.py:310\u001b[0m, in \u001b[0;36m_lazy_init\u001b[1;34m()\u001b[0m\n\u001b[0;32m    305\u001b[0m     \u001b[38;5;28;01mraise\u001b[39;00m \u001b[38;5;167;01mRuntimeError\u001b[39;00m(\n\u001b[0;32m    306\u001b[0m         \u001b[38;5;124m\"\u001b[39m\u001b[38;5;124mCannot re-initialize CUDA in forked subprocess. To use CUDA with \u001b[39m\u001b[38;5;124m\"\u001b[39m\n\u001b[0;32m    307\u001b[0m         \u001b[38;5;124m\"\u001b[39m\u001b[38;5;124mmultiprocessing, you must use the \u001b[39m\u001b[38;5;124m'\u001b[39m\u001b[38;5;124mspawn\u001b[39m\u001b[38;5;124m'\u001b[39m\u001b[38;5;124m start method\u001b[39m\u001b[38;5;124m\"\u001b[39m\n\u001b[0;32m    308\u001b[0m     )\n\u001b[0;32m    309\u001b[0m \u001b[38;5;28;01mif\u001b[39;00m \u001b[38;5;129;01mnot\u001b[39;00m \u001b[38;5;28mhasattr\u001b[39m(torch\u001b[38;5;241m.\u001b[39m_C, \u001b[38;5;124m\"\u001b[39m\u001b[38;5;124m_cuda_getDeviceCount\u001b[39m\u001b[38;5;124m\"\u001b[39m):\n\u001b[1;32m--> 310\u001b[0m     \u001b[38;5;28;01mraise\u001b[39;00m \u001b[38;5;167;01mAssertionError\u001b[39;00m(\u001b[38;5;124m\"\u001b[39m\u001b[38;5;124mTorch not compiled with CUDA enabled\u001b[39m\u001b[38;5;124m\"\u001b[39m)\n\u001b[0;32m    311\u001b[0m \u001b[38;5;28;01mif\u001b[39;00m _cudart \u001b[38;5;129;01mis\u001b[39;00m \u001b[38;5;28;01mNone\u001b[39;00m:\n\u001b[0;32m    312\u001b[0m     \u001b[38;5;28;01mraise\u001b[39;00m \u001b[38;5;167;01mAssertionError\u001b[39;00m(\n\u001b[0;32m    313\u001b[0m         \u001b[38;5;124m\"\u001b[39m\u001b[38;5;124mlibcudart functions unavailable. It looks like you have a broken build?\u001b[39m\u001b[38;5;124m\"\u001b[39m\n\u001b[0;32m    314\u001b[0m     )\n",
      "\u001b[1;31mAssertionError\u001b[0m: Torch not compiled with CUDA enabled"
     ]
    }
   ],
   "source": [
    "%%time\n",
    "# CPU times: user 18min 28s, sys: 4min 57s, total: 23min 26s\n",
    "# Wall time: 32min 26s\n",
    "\n",
    "# Training Loop\n",
    "num_epochs = 10\n",
    "patience = 3\n",
    "best_loss = float(\"inf\")\n",
    "counter = 0\n",
    "\n",
    "# Check device (optional, for flexibility if GPU becomes available later)\n",
    "device = torch.device(\"cuda\")\n",
    "print(f\"Using device: {device}\")\n",
    "\n",
    "# Assuming model, train_loader, valid_loader, criterion, optimizer, and best_model_path are defined elsewhere\n",
    "model = model.to(device)  # Move model to CPU (or other device if specified)\n",
    "\n",
    "for epoch in range(num_epochs):\n",
    "    model.train()\n",
    "    epoch_loss = 0.0\n",
    "    for images, targets in tqdm(train_loader, desc=f\"Epoch {epoch+1}/{num_epochs} - Training\"):\n",
    "        images, targets = images.to(device), targets.to(device)  # Move data to CPU\n",
    "        optimizer.zero_grad()\n",
    "        outputs = model(images)\n",
    "        loss = criterion(outputs, targets)\n",
    "        loss.backward()\n",
    "        optimizer.step()\n",
    "        epoch_loss += loss.item()\n",
    "\n",
    "    # Validation Loop\n",
    "    model.eval()\n",
    "    val_loss = 0.0\n",
    "    with torch.no_grad():\n",
    "        for images, targets in tqdm(valid_loader, desc=f\"Epoch {epoch+1}/{num_epochs} - Validation\"):\n",
    "            images, targets = images.to(device), targets.to(device)  # Move data to CPU\n",
    "            outputs = model(images)\n",
    "            loss = criterion(outputs, targets)\n",
    "            val_loss += loss.item()\n",
    "    scheduler = torch.optim.lr_scheduler.ReduceLROnPlateau(optimizer, mode='min', factor=0.5, patience=2)\n",
    "    scheduler.step(val_loss)\n",
    "\n",
    "    val_loss /= len(valid_loader)\n",
    "    print(f\"Epoch {epoch+1}/{num_epochs}, Train Loss: {epoch_loss/len(train_loader):.4f}, Val Loss: {val_loss:.4f}\")\n",
    "\n",
    "    # Save Best Model\n",
    "    if val_loss < best_loss:\n",
    "        best_loss = val_loss\n",
    "        torch.save(model.state_dict(), best_model_path)\n",
    "        counter = 0\n",
    "    else:\n",
    "        counter += 1\n",
    "        if counter >= patience:\n",
    "            print(\"Early stopping triggered\")\n",
    "            break"
   ]
  },
  {
   "cell_type": "code",
   "execution_count": 29,
   "metadata": {
    "id": "d-b5YbRbABqg",
    "outputId": "4594bd0b-8794-4cfe-d9ba-0232b7089e30",
    "trusted": true
   },
   "outputs": [
    {
     "ename": "FileNotFoundError",
     "evalue": "[Errno 2] No such file or directory: '/kaggle/working/best_model.pth'",
     "output_type": "error",
     "traceback": [
      "\u001b[1;31m---------------------------------------------------------------------------\u001b[0m",
      "\u001b[1;31mFileNotFoundError\u001b[0m                         Traceback (most recent call last)",
      "Cell \u001b[1;32mIn[29], line 2\u001b[0m\n\u001b[0;32m      1\u001b[0m \u001b[38;5;66;03m# Load Best Model\u001b[39;00m\n\u001b[1;32m----> 2\u001b[0m model\u001b[38;5;241m.\u001b[39mload_state_dict(torch\u001b[38;5;241m.\u001b[39mload(best_model_path))\n\u001b[0;32m      3\u001b[0m model\u001b[38;5;241m.\u001b[39meval()\n\u001b[0;32m      5\u001b[0m \u001b[38;5;66;03m# Predict on Validation Set\u001b[39;00m\n",
      "File \u001b[1;32mc:\\Users\\ATD\\anaconda3\\Lib\\site-packages\\torch\\serialization.py:1425\u001b[0m, in \u001b[0;36mload\u001b[1;34m(f, map_location, pickle_module, weights_only, mmap, **pickle_load_args)\u001b[0m\n\u001b[0;32m   1422\u001b[0m \u001b[38;5;28;01mif\u001b[39;00m \u001b[38;5;124m\"\u001b[39m\u001b[38;5;124mencoding\u001b[39m\u001b[38;5;124m\"\u001b[39m \u001b[38;5;129;01mnot\u001b[39;00m \u001b[38;5;129;01min\u001b[39;00m pickle_load_args\u001b[38;5;241m.\u001b[39mkeys():\n\u001b[0;32m   1423\u001b[0m     pickle_load_args[\u001b[38;5;124m\"\u001b[39m\u001b[38;5;124mencoding\u001b[39m\u001b[38;5;124m\"\u001b[39m] \u001b[38;5;241m=\u001b[39m \u001b[38;5;124m\"\u001b[39m\u001b[38;5;124mutf-8\u001b[39m\u001b[38;5;124m\"\u001b[39m\n\u001b[1;32m-> 1425\u001b[0m \u001b[38;5;28;01mwith\u001b[39;00m _open_file_like(f, \u001b[38;5;124m\"\u001b[39m\u001b[38;5;124mrb\u001b[39m\u001b[38;5;124m\"\u001b[39m) \u001b[38;5;28;01mas\u001b[39;00m opened_file:\n\u001b[0;32m   1426\u001b[0m     \u001b[38;5;28;01mif\u001b[39;00m _is_zipfile(opened_file):\n\u001b[0;32m   1427\u001b[0m         \u001b[38;5;66;03m# The zipfile reader is going to advance the current file position.\u001b[39;00m\n\u001b[0;32m   1428\u001b[0m         \u001b[38;5;66;03m# If we want to actually tail call to torch.jit.load, we need to\u001b[39;00m\n\u001b[0;32m   1429\u001b[0m         \u001b[38;5;66;03m# reset back to the original position.\u001b[39;00m\n\u001b[0;32m   1430\u001b[0m         orig_position \u001b[38;5;241m=\u001b[39m opened_file\u001b[38;5;241m.\u001b[39mtell()\n",
      "File \u001b[1;32mc:\\Users\\ATD\\anaconda3\\Lib\\site-packages\\torch\\serialization.py:751\u001b[0m, in \u001b[0;36m_open_file_like\u001b[1;34m(name_or_buffer, mode)\u001b[0m\n\u001b[0;32m    749\u001b[0m \u001b[38;5;28;01mdef\u001b[39;00m \u001b[38;5;21m_open_file_like\u001b[39m(name_or_buffer, mode):\n\u001b[0;32m    750\u001b[0m     \u001b[38;5;28;01mif\u001b[39;00m _is_path(name_or_buffer):\n\u001b[1;32m--> 751\u001b[0m         \u001b[38;5;28;01mreturn\u001b[39;00m _open_file(name_or_buffer, mode)\n\u001b[0;32m    752\u001b[0m     \u001b[38;5;28;01melse\u001b[39;00m:\n\u001b[0;32m    753\u001b[0m         \u001b[38;5;28;01mif\u001b[39;00m \u001b[38;5;124m\"\u001b[39m\u001b[38;5;124mw\u001b[39m\u001b[38;5;124m\"\u001b[39m \u001b[38;5;129;01min\u001b[39;00m mode:\n",
      "File \u001b[1;32mc:\\Users\\ATD\\anaconda3\\Lib\\site-packages\\torch\\serialization.py:732\u001b[0m, in \u001b[0;36m_open_file.__init__\u001b[1;34m(self, name, mode)\u001b[0m\n\u001b[0;32m    731\u001b[0m \u001b[38;5;28;01mdef\u001b[39;00m \u001b[38;5;21m__init__\u001b[39m(\u001b[38;5;28mself\u001b[39m, name, mode):\n\u001b[1;32m--> 732\u001b[0m     \u001b[38;5;28msuper\u001b[39m()\u001b[38;5;241m.\u001b[39m\u001b[38;5;21m__init__\u001b[39m(\u001b[38;5;28mopen\u001b[39m(name, mode))\n",
      "\u001b[1;31mFileNotFoundError\u001b[0m: [Errno 2] No such file or directory: '/kaggle/working/best_model.pth'"
     ]
    }
   ],
   "source": [
    "# Load Best Model\n",
    "model.load_state_dict(torch.load(best_model_path))\n",
    "model.eval()\n",
    "\n",
    "# Predict on Validation Set\n",
    "preds = []\n",
    "true_vals = []\n",
    "with torch.no_grad():\n",
    "    for images, targets in tqdm(valid_loader, desc=\"Predicting on Validation Set\"):\n",
    "        images = images.cuda()\n",
    "        outputs = model(images).cpu().numpy()\n",
    "        preds.append(outputs)\n",
    "        true_vals.append(targets.numpy())\n",
    "preds = np.concatenate(preds, axis=0)\n",
    "true_vals = np.concatenate(true_vals, axis=0)"
   ]
  },
  {
   "cell_type": "code",
   "execution_count": null,
   "metadata": {
    "id": "QKQh0lfnPwqq",
    "outputId": "0e820462-63b0-406d-bf14-ca0fb8050633",
    "trusted": true
   },
   "outputs": [],
   "source": [
    "from sklearn.metrics import mean_absolute_error\n",
    "\n",
    "# Evaluate using MAE\n",
    "mae = mean_absolute_error(true_vals, preds)\n",
    "print(f\"Validation MAE: {mae:.4f}\")\n",
    "\n",
    "# Previous Validation MAE: 1.2880"
   ]
  },
  {
   "cell_type": "code",
   "execution_count": null,
   "metadata": {
    "id": "ne1bkGIvKuAG",
    "outputId": "67438760-c2bd-4dfc-edb9-d0e0611ce7e3",
    "trusted": true
   },
   "outputs": [],
   "source": [
    "%%time\n",
    "# CPU times: user 1min 51s, sys: 58.3 s, total: 2min 49s\n",
    "# Wall time: 2min 22s\n",
    "\n",
    "# Predict on Test Set\n",
    "test_df = pd.read_csv(f\"/kaggle/input/lacuna-solar-survey-challenge/Test.csv\")\n",
    "test_df[\"path\"] = \"/kaggle/input/lacuna-solar-survey-challenge/images/\" + test_df[\"ID\"] + \".jpg\"\n",
    "\n",
    "dataset_test = SolarPanelDataset(test_df, transform=test_transforms, to_train=False)\n",
    "test_loader = DataLoader(dataset_test, batch_size=8, shuffle=False)\n",
    "\n",
    "test_preds = []\n",
    "with torch.no_grad():\n",
    "    for images in tqdm(test_loader, desc=\"Predicting on Test Set\"):\n",
    "        images = images.cuda()\n",
    "        outputs = model(images).cpu().numpy()\n",
    "        test_preds.append(outputs)\n",
    "test_preds = np.concatenate(test_preds, axis=0)"
   ]
  },
  {
   "cell_type": "code",
   "execution_count": null,
   "metadata": {
    "id": "cepD5bBiP2Fz",
    "outputId": "e833f539-2ec0-447f-e68d-1aea953c5e93",
    "trusted": true
   },
   "outputs": [],
   "source": [
    "# Create Sample Submission\n",
    "submission = pd.DataFrame()\n",
    "submission[\"ID\"] = np.repeat(test_df[\"ID\"].values, 2)\n",
    "submission[\"ID\"] = submission[\"ID\"] + np.tile([\"_boil\", \"_pan\"], len(test_df))\n",
    "submission[\"Target\"] = test_preds.flatten().clip(0,1000)\n",
    "\n",
    "# Save Submission\n",
    "submission.to_csv(\"Submission.csv\", index=False)\n",
    "print(\"Submission saved!\")"
   ]
  },
  {
   "cell_type": "code",
   "execution_count": null,
   "metadata": {
    "trusted": true
   },
   "outputs": [],
   "source": [
    "end = time.time()\n",
    "expected = (end - start) / 60\n",
    "print(f\"Expected runtime: {expected:.2f} minutes\")"
   ]
  },
  {
   "cell_type": "code",
   "execution_count": null,
   "metadata": {
    "trusted": true
   },
   "outputs": [],
   "source": [
    "# LB score: 1.385280187 LB rank: 23"
   ]
  },
  {
   "cell_type": "code",
   "execution_count": null,
   "metadata": {
    "trusted": true
   },
   "outputs": [],
   "source": []
  }
 ],
 "metadata": {
  "accelerator": "GPU",
  "colab": {
   "gpuType": "T4",
   "provenance": []
  },
  "kaggle": {
   "accelerator": "gpu",
   "dataSources": [
    {
     "datasetId": 6691299,
     "sourceId": 10783793,
     "sourceType": "datasetVersion"
    }
   ],
   "dockerImageVersionId": 30918,
   "isGpuEnabled": true,
   "isInternetEnabled": true,
   "language": "python",
   "sourceType": "notebook"
  },
  "kernelspec": {
   "display_name": "base",
   "language": "python",
   "name": "python3"
  },
  "language_info": {
   "codemirror_mode": {
    "name": "ipython",
    "version": 3
   },
   "file_extension": ".py",
   "mimetype": "text/x-python",
   "name": "python",
   "nbconvert_exporter": "python",
   "pygments_lexer": "ipython3",
   "version": "3.12.7"
  },
  "widgets": {
   "application/vnd.jupyter.widget-state+json": {
    "0b074c585dd5460f892711429f1d78aa": {
     "model_module": "@jupyter-widgets/controls",
     "model_module_version": "1.5.0",
     "model_name": "DescriptionStyleModel",
     "state": {
      "_model_module": "@jupyter-widgets/controls",
      "_model_module_version": "1.5.0",
      "_model_name": "DescriptionStyleModel",
      "_view_count": null,
      "_view_module": "@jupyter-widgets/base",
      "_view_module_version": "1.2.0",
      "_view_name": "StyleView",
      "description_width": ""
     }
    },
    "3db63fd099ba4a2a8d3ffcaa147b6011": {
     "model_module": "@jupyter-widgets/controls",
     "model_module_version": "1.5.0",
     "model_name": "FloatProgressModel",
     "state": {
      "_dom_classes": [],
      "_model_module": "@jupyter-widgets/controls",
      "_model_module_version": "1.5.0",
      "_model_name": "FloatProgressModel",
      "_view_count": null,
      "_view_module": "@jupyter-widgets/controls",
      "_view_module_version": "1.5.0",
      "_view_name": "ProgressView",
      "bar_style": "success",
      "description": "",
      "description_tooltip": null,
      "layout": "IPY_MODEL_8f26197afbe3469cb2d27ea32f7257ee",
      "max": 31471874,
      "min": 0,
      "orientation": "horizontal",
      "style": "IPY_MODEL_d026f74db1264804b09f4b93da7bf720",
      "value": 31471874
     }
    },
    "5a5479ef19af4814b4a227ea44ffd90a": {
     "model_module": "@jupyter-widgets/controls",
     "model_module_version": "1.5.0",
     "model_name": "HTMLModel",
     "state": {
      "_dom_classes": [],
      "_model_module": "@jupyter-widgets/controls",
      "_model_module_version": "1.5.0",
      "_model_name": "HTMLModel",
      "_view_count": null,
      "_view_module": "@jupyter-widgets/controls",
      "_view_module_version": "1.5.0",
      "_view_name": "HTMLView",
      "description": "",
      "description_tooltip": null,
      "layout": "IPY_MODEL_e52204a5e84f419994c7017fc2b3bbf8",
      "placeholder": "​",
      "style": "IPY_MODEL_0b074c585dd5460f892711429f1d78aa",
      "value": " 31.5M/31.5M [00:00&lt;00:00, 56.8MB/s]"
     }
    },
    "5ca7b048742c49e986dd8e30727367a7": {
     "model_module": "@jupyter-widgets/controls",
     "model_module_version": "1.5.0",
     "model_name": "DescriptionStyleModel",
     "state": {
      "_model_module": "@jupyter-widgets/controls",
      "_model_module_version": "1.5.0",
      "_model_name": "DescriptionStyleModel",
      "_view_count": null,
      "_view_module": "@jupyter-widgets/base",
      "_view_module_version": "1.2.0",
      "_view_name": "StyleView",
      "description_width": ""
     }
    },
    "60f4949511b44ae499946129cee86819": {
     "model_module": "@jupyter-widgets/base",
     "model_module_version": "1.2.0",
     "model_name": "LayoutModel",
     "state": {
      "_model_module": "@jupyter-widgets/base",
      "_model_module_version": "1.2.0",
      "_model_name": "LayoutModel",
      "_view_count": null,
      "_view_module": "@jupyter-widgets/base",
      "_view_module_version": "1.2.0",
      "_view_name": "LayoutView",
      "align_content": null,
      "align_items": null,
      "align_self": null,
      "border": null,
      "bottom": null,
      "display": null,
      "flex": null,
      "flex_flow": null,
      "grid_area": null,
      "grid_auto_columns": null,
      "grid_auto_flow": null,
      "grid_auto_rows": null,
      "grid_column": null,
      "grid_gap": null,
      "grid_row": null,
      "grid_template_areas": null,
      "grid_template_columns": null,
      "grid_template_rows": null,
      "height": null,
      "justify_content": null,
      "justify_items": null,
      "left": null,
      "margin": null,
      "max_height": null,
      "max_width": null,
      "min_height": null,
      "min_width": null,
      "object_fit": null,
      "object_position": null,
      "order": null,
      "overflow": null,
      "overflow_x": null,
      "overflow_y": null,
      "padding": null,
      "right": null,
      "top": null,
      "visibility": null,
      "width": null
     }
    },
    "654c794449bd42378ad0ff1ba20a3842": {
     "model_module": "@jupyter-widgets/controls",
     "model_module_version": "1.5.0",
     "model_name": "HBoxModel",
     "state": {
      "_dom_classes": [],
      "_model_module": "@jupyter-widgets/controls",
      "_model_module_version": "1.5.0",
      "_model_name": "HBoxModel",
      "_view_count": null,
      "_view_module": "@jupyter-widgets/controls",
      "_view_module_version": "1.5.0",
      "_view_name": "HBoxView",
      "box_style": "",
      "children": [
       "IPY_MODEL_77ac0e5761554e789f001c1045129ea8",
       "IPY_MODEL_3db63fd099ba4a2a8d3ffcaa147b6011",
       "IPY_MODEL_5a5479ef19af4814b4a227ea44ffd90a"
      ],
      "layout": "IPY_MODEL_60f4949511b44ae499946129cee86819"
     }
    },
    "69079a20dea64e91885053bf2cc54a4c": {
     "model_module": "@jupyter-widgets/base",
     "model_module_version": "1.2.0",
     "model_name": "LayoutModel",
     "state": {
      "_model_module": "@jupyter-widgets/base",
      "_model_module_version": "1.2.0",
      "_model_name": "LayoutModel",
      "_view_count": null,
      "_view_module": "@jupyter-widgets/base",
      "_view_module_version": "1.2.0",
      "_view_name": "LayoutView",
      "align_content": null,
      "align_items": null,
      "align_self": null,
      "border": null,
      "bottom": null,
      "display": null,
      "flex": null,
      "flex_flow": null,
      "grid_area": null,
      "grid_auto_columns": null,
      "grid_auto_flow": null,
      "grid_auto_rows": null,
      "grid_column": null,
      "grid_gap": null,
      "grid_row": null,
      "grid_template_areas": null,
      "grid_template_columns": null,
      "grid_template_rows": null,
      "height": null,
      "justify_content": null,
      "justify_items": null,
      "left": null,
      "margin": null,
      "max_height": null,
      "max_width": null,
      "min_height": null,
      "min_width": null,
      "object_fit": null,
      "object_position": null,
      "order": null,
      "overflow": null,
      "overflow_x": null,
      "overflow_y": null,
      "padding": null,
      "right": null,
      "top": null,
      "visibility": null,
      "width": null
     }
    },
    "77ac0e5761554e789f001c1045129ea8": {
     "model_module": "@jupyter-widgets/controls",
     "model_module_version": "1.5.0",
     "model_name": "HTMLModel",
     "state": {
      "_dom_classes": [],
      "_model_module": "@jupyter-widgets/controls",
      "_model_module_version": "1.5.0",
      "_model_name": "HTMLModel",
      "_view_count": null,
      "_view_module": "@jupyter-widgets/controls",
      "_view_module_version": "1.5.0",
      "_view_name": "HTMLView",
      "description": "",
      "description_tooltip": null,
      "layout": "IPY_MODEL_69079a20dea64e91885053bf2cc54a4c",
      "placeholder": "​",
      "style": "IPY_MODEL_5ca7b048742c49e986dd8e30727367a7",
      "value": "model.safetensors: 100%"
     }
    },
    "8f26197afbe3469cb2d27ea32f7257ee": {
     "model_module": "@jupyter-widgets/base",
     "model_module_version": "1.2.0",
     "model_name": "LayoutModel",
     "state": {
      "_model_module": "@jupyter-widgets/base",
      "_model_module_version": "1.2.0",
      "_model_name": "LayoutModel",
      "_view_count": null,
      "_view_module": "@jupyter-widgets/base",
      "_view_module_version": "1.2.0",
      "_view_name": "LayoutView",
      "align_content": null,
      "align_items": null,
      "align_self": null,
      "border": null,
      "bottom": null,
      "display": null,
      "flex": null,
      "flex_flow": null,
      "grid_area": null,
      "grid_auto_columns": null,
      "grid_auto_flow": null,
      "grid_auto_rows": null,
      "grid_column": null,
      "grid_gap": null,
      "grid_row": null,
      "grid_template_areas": null,
      "grid_template_columns": null,
      "grid_template_rows": null,
      "height": null,
      "justify_content": null,
      "justify_items": null,
      "left": null,
      "margin": null,
      "max_height": null,
      "max_width": null,
      "min_height": null,
      "min_width": null,
      "object_fit": null,
      "object_position": null,
      "order": null,
      "overflow": null,
      "overflow_x": null,
      "overflow_y": null,
      "padding": null,
      "right": null,
      "top": null,
      "visibility": null,
      "width": null
     }
    },
    "d026f74db1264804b09f4b93da7bf720": {
     "model_module": "@jupyter-widgets/controls",
     "model_module_version": "1.5.0",
     "model_name": "ProgressStyleModel",
     "state": {
      "_model_module": "@jupyter-widgets/controls",
      "_model_module_version": "1.5.0",
      "_model_name": "ProgressStyleModel",
      "_view_count": null,
      "_view_module": "@jupyter-widgets/base",
      "_view_module_version": "1.2.0",
      "_view_name": "StyleView",
      "bar_color": null,
      "description_width": ""
     }
    },
    "e52204a5e84f419994c7017fc2b3bbf8": {
     "model_module": "@jupyter-widgets/base",
     "model_module_version": "1.2.0",
     "model_name": "LayoutModel",
     "state": {
      "_model_module": "@jupyter-widgets/base",
      "_model_module_version": "1.2.0",
      "_model_name": "LayoutModel",
      "_view_count": null,
      "_view_module": "@jupyter-widgets/base",
      "_view_module_version": "1.2.0",
      "_view_name": "LayoutView",
      "align_content": null,
      "align_items": null,
      "align_self": null,
      "border": null,
      "bottom": null,
      "display": null,
      "flex": null,
      "flex_flow": null,
      "grid_area": null,
      "grid_auto_columns": null,
      "grid_auto_flow": null,
      "grid_auto_rows": null,
      "grid_column": null,
      "grid_gap": null,
      "grid_row": null,
      "grid_template_areas": null,
      "grid_template_columns": null,
      "grid_template_rows": null,
      "height": null,
      "justify_content": null,
      "justify_items": null,
      "left": null,
      "margin": null,
      "max_height": null,
      "max_width": null,
      "min_height": null,
      "min_width": null,
      "object_fit": null,
      "object_position": null,
      "order": null,
      "overflow": null,
      "overflow_x": null,
      "overflow_y": null,
      "padding": null,
      "right": null,
      "top": null,
      "visibility": null,
      "width": null
     }
    }
   }
  }
 },
 "nbformat": 4,
 "nbformat_minor": 4
}
